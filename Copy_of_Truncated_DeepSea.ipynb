{
  "nbformat": 4,
  "nbformat_minor": 0,
  "metadata": {
    "colab": {
      "name": "Copy of Truncated_DeepSea_example.ipynb",
      "provenance": [],
      "collapsed_sections": [],
      "machine_shape": "hm",
      "include_colab_link": true
    },
    "kernelspec": {
      "name": "python3",
      "display_name": "Python 3"
    },
    "accelerator": "GPU"
  },
  "cells": [
    {
      "cell_type": "markdown",
      "metadata": {
        "id": "view-in-github",
        "colab_type": "text"
      },
      "source": [
        "<a href=\"https://colab.research.google.com/github/Thuffy13/CNNs-For-DNA-Sequence-Analysis/blob/main/Copy_of_Truncated_DeepSea.ipynb\" target=\"_parent\"><img src=\"https://colab.research.google.com/assets/colab-badge.svg\" alt=\"Open In Colab\"/></a>"
      ]
    },
    {
      "cell_type": "code",
      "metadata": {
        "colab": {
          "base_uri": "https://localhost:8080/"
        },
        "id": "9oCRW_2nhKUX",
        "outputId": "bce9c4d0-fbbe-4b05-e162-9ec8564c5517"
      },
      "source": [
        "gpu_info = !nvidia-smi\n",
        "gpu_info = '\\n'.join(gpu_info)\n",
        "print(gpu_info)"
      ],
      "execution_count": null,
      "outputs": [
        {
          "output_type": "stream",
          "name": "stdout",
          "text": [
            "Sun Sep 12 01:55:51 2021       \n",
            "+-----------------------------------------------------------------------------+\n",
            "| NVIDIA-SMI 470.63.01    Driver Version: 460.32.03    CUDA Version: 11.2     |\n",
            "|-------------------------------+----------------------+----------------------+\n",
            "| GPU  Name        Persistence-M| Bus-Id        Disp.A | Volatile Uncorr. ECC |\n",
            "| Fan  Temp  Perf  Pwr:Usage/Cap|         Memory-Usage | GPU-Util  Compute M. |\n",
            "|                               |                      |               MIG M. |\n",
            "|===============================+======================+======================|\n",
            "|   0  Tesla T4            Off  | 00000000:00:04.0 Off |                    0 |\n",
            "| N/A   37C    P8     9W /  70W |      0MiB / 15109MiB |      0%      Default |\n",
            "|                               |                      |                  N/A |\n",
            "+-------------------------------+----------------------+----------------------+\n",
            "                                                                               \n",
            "+-----------------------------------------------------------------------------+\n",
            "| Processes:                                                                  |\n",
            "|  GPU   GI   CI        PID   Type   Process name                  GPU Memory |\n",
            "|        ID   ID                                                   Usage      |\n",
            "|=============================================================================|\n",
            "|  No running processes found                                                 |\n",
            "+-----------------------------------------------------------------------------+\n"
          ]
        }
      ]
    },
    {
      "cell_type": "code",
      "metadata": {
        "colab": {
          "base_uri": "https://localhost:8080/"
        },
        "id": "Y0aq5LeOhNgf",
        "outputId": "fa7c6c89-36c5-4797-8249-f1f9d4b05c06"
      },
      "source": [
        "!pip install logomaker\n",
        "!pip install https://github.com/p-koo/tfomics/tarball/master\n",
        "!git clone https://github.com/p-koo/model_zoo"
      ],
      "execution_count": null,
      "outputs": [
        {
          "output_type": "stream",
          "name": "stdout",
          "text": [
            "Collecting logomaker\n",
            "  Downloading logomaker-0.8-py2.py3-none-any.whl (11.8 MB)\n",
            "\u001b[K     |████████████████████████████████| 11.8 MB 7.3 MB/s \n",
            "\u001b[?25hRequirement already satisfied: pandas in /usr/local/lib/python3.7/dist-packages (from logomaker) (1.1.5)\n",
            "Requirement already satisfied: matplotlib in /usr/local/lib/python3.7/dist-packages (from logomaker) (3.2.2)\n",
            "Requirement already satisfied: numpy in /usr/local/lib/python3.7/dist-packages (from logomaker) (1.19.5)\n",
            "Requirement already satisfied: cycler>=0.10 in /usr/local/lib/python3.7/dist-packages (from matplotlib->logomaker) (0.10.0)\n",
            "Requirement already satisfied: python-dateutil>=2.1 in /usr/local/lib/python3.7/dist-packages (from matplotlib->logomaker) (2.8.2)\n",
            "Requirement already satisfied: pyparsing!=2.0.4,!=2.1.2,!=2.1.6,>=2.0.1 in /usr/local/lib/python3.7/dist-packages (from matplotlib->logomaker) (2.4.7)\n",
            "Requirement already satisfied: kiwisolver>=1.0.1 in /usr/local/lib/python3.7/dist-packages (from matplotlib->logomaker) (1.3.1)\n",
            "Requirement already satisfied: six in /usr/local/lib/python3.7/dist-packages (from cycler>=0.10->matplotlib->logomaker) (1.15.0)\n",
            "Requirement already satisfied: pytz>=2017.2 in /usr/local/lib/python3.7/dist-packages (from pandas->logomaker) (2018.9)\n",
            "Installing collected packages: logomaker\n",
            "Successfully installed logomaker-0.8\n",
            "Collecting https://github.com/p-koo/tfomics/tarball/master\n",
            "  Downloading https://github.com/p-koo/tfomics/tarball/master\n",
            "\u001b[K     | 19 kB 293 kB/s\n",
            "\u001b[?25hRequirement already satisfied: logomaker in /usr/local/lib/python3.7/dist-packages (from tfomics==0.1.0.dev0) (0.8)\n",
            "Requirement already satisfied: numpy in /usr/local/lib/python3.7/dist-packages (from tfomics==0.1.0.dev0) (1.19.5)\n",
            "Requirement already satisfied: pandas in /usr/local/lib/python3.7/dist-packages (from tfomics==0.1.0.dev0) (1.1.5)\n",
            "Requirement already satisfied: scikit-learn in /usr/local/lib/python3.7/dist-packages (from tfomics==0.1.0.dev0) (0.22.2.post1)\n",
            "Requirement already satisfied: scipy in /usr/local/lib/python3.7/dist-packages (from tfomics==0.1.0.dev0) (1.4.1)\n",
            "Requirement already satisfied: matplotlib in /usr/local/lib/python3.7/dist-packages (from logomaker->tfomics==0.1.0.dev0) (3.2.2)\n",
            "Requirement already satisfied: python-dateutil>=2.1 in /usr/local/lib/python3.7/dist-packages (from matplotlib->logomaker->tfomics==0.1.0.dev0) (2.8.2)\n",
            "Requirement already satisfied: cycler>=0.10 in /usr/local/lib/python3.7/dist-packages (from matplotlib->logomaker->tfomics==0.1.0.dev0) (0.10.0)\n",
            "Requirement already satisfied: kiwisolver>=1.0.1 in /usr/local/lib/python3.7/dist-packages (from matplotlib->logomaker->tfomics==0.1.0.dev0) (1.3.1)\n",
            "Requirement already satisfied: pyparsing!=2.0.4,!=2.1.2,!=2.1.6,>=2.0.1 in /usr/local/lib/python3.7/dist-packages (from matplotlib->logomaker->tfomics==0.1.0.dev0) (2.4.7)\n",
            "Requirement already satisfied: six in /usr/local/lib/python3.7/dist-packages (from cycler>=0.10->matplotlib->logomaker->tfomics==0.1.0.dev0) (1.15.0)\n",
            "Requirement already satisfied: pytz>=2017.2 in /usr/local/lib/python3.7/dist-packages (from pandas->tfomics==0.1.0.dev0) (2018.9)\n",
            "Requirement already satisfied: joblib>=0.11 in /usr/local/lib/python3.7/dist-packages (from scikit-learn->tfomics==0.1.0.dev0) (1.0.1)\n",
            "Building wheels for collected packages: tfomics\n",
            "  Building wheel for tfomics (setup.py) ... \u001b[?25l\u001b[?25hdone\n",
            "  Created wheel for tfomics: filename=tfomics-0.1.0.dev0-py3-none-any.whl size=22510 sha256=f7d6cded4ea9463d8c4eb83fb7c286bc4b2469e0ac9455f2a4e02b486f956fa7\n",
            "  Stored in directory: /tmp/pip-ephem-wheel-cache-nuf7aiw7/wheels/e1/eb/ae/f064df77529927df479c5f666c7572e25493375bcd4c1ff19f\n",
            "Successfully built tfomics\n",
            "Installing collected packages: tfomics\n",
            "Successfully installed tfomics-0.1.0.dev0\n",
            "Cloning into 'model_zoo'...\n",
            "remote: Enumerating objects: 66, done.\u001b[K\n",
            "remote: Counting objects: 100% (66/66), done.\u001b[K\n",
            "remote: Compressing objects: 100% (44/44), done.\u001b[K\n",
            "remote: Total 66 (delta 41), reused 46 (delta 21), pack-reused 0\u001b[K\n",
            "Unpacking objects: 100% (66/66), done.\n"
          ]
        }
      ]
    },
    {
      "cell_type": "code",
      "metadata": {
        "colab": {
          "base_uri": "https://localhost:8080/"
        },
        "id": "PujZIdXwf0vq",
        "outputId": "fb308bc6-4b1b-4db6-d1be-2cee153a4586"
      },
      "source": [
        "!wget https://www.dropbox.com/s/kfd1bvf3dk3d9he/truncated_deepsea_dataset.h5"
      ],
      "execution_count": null,
      "outputs": [
        {
          "output_type": "stream",
          "name": "stdout",
          "text": [
            "--2021-09-12 01:56:00--  https://www.dropbox.com/s/shixtcddkno24rh/truncated_deepsea_dataset2.h5\n",
            "Resolving www.dropbox.com (www.dropbox.com)... 162.125.65.18, 2620:100:6027:18::a27d:4812\n",
            "Connecting to www.dropbox.com (www.dropbox.com)|162.125.65.18|:443... connected.\n",
            "HTTP request sent, awaiting response... 301 Moved Permanently\n",
            "Location: /s/raw/shixtcddkno24rh/truncated_deepsea_dataset2.h5 [following]\n",
            "--2021-09-12 01:56:01--  https://www.dropbox.com/s/raw/shixtcddkno24rh/truncated_deepsea_dataset2.h5\n",
            "Reusing existing connection to www.dropbox.com:443.\n",
            "HTTP request sent, awaiting response... 302 Found\n",
            "Location: https://uc102872133273fb4998f1a927bd.dl.dropboxusercontent.com/cd/0/inline/BV9wQ55A0-lJB23KzFlylE5WBN99vTkszdx1ciBM9rYAM34VHFHJLH4KePa59IddkufEYkRVKcV4qoM4OXIn3evSYULDv8iEGH5fjNCOpkEAfMkpTnJ2_ddMRZC1juyUrCxCbgiPC7vnIdeytJdzc28U/file# [following]\n",
            "--2021-09-12 01:56:02--  https://uc102872133273fb4998f1a927bd.dl.dropboxusercontent.com/cd/0/inline/BV9wQ55A0-lJB23KzFlylE5WBN99vTkszdx1ciBM9rYAM34VHFHJLH4KePa59IddkufEYkRVKcV4qoM4OXIn3evSYULDv8iEGH5fjNCOpkEAfMkpTnJ2_ddMRZC1juyUrCxCbgiPC7vnIdeytJdzc28U/file\n",
            "Resolving uc102872133273fb4998f1a927bd.dl.dropboxusercontent.com (uc102872133273fb4998f1a927bd.dl.dropboxusercontent.com)... 162.125.65.15, 2620:100:6017:15::a27d:20f\n",
            "Connecting to uc102872133273fb4998f1a927bd.dl.dropboxusercontent.com (uc102872133273fb4998f1a927bd.dl.dropboxusercontent.com)|162.125.65.15|:443... connected.\n",
            "HTTP request sent, awaiting response... 302 Found\n",
            "Location: /cd/0/inline2/BV86tNGhItOPjWNLnQhaQYhb9HzpkhxleaiIL_64BYkl_K13ekpeOfUuLDdkpLw44tEeLrtjxfpaXqGsUNg3Ghv4NyO8nMXNsTHNuGHkY3U3OjeMwvOUuBkb3Y_rbjLFOliJZIW74ox6lXYBoGvQ9IYZgpej_vqpWxAVSc6J_Ti0Z_IdJdaRAOvx_Z41vpdsImr6kaHHZtneOv5lVn5LCA3D5zuJEVdwnox1y-FCIhYWfQkqPbV8K3KzrUWoxOGW8Qc1DY7j9tafqj72YtWWUDh_zPmrgP8tuBqX5OeNTweZysHTvXWtEjT2UczQfz6U53HQ3gW8FmSLD26tugD9tSKN7SUq75jE_hQdOVnrZSsQs_2kHc--rowIbH89l5m9klw/file [following]\n",
            "--2021-09-12 01:56:03--  https://uc102872133273fb4998f1a927bd.dl.dropboxusercontent.com/cd/0/inline2/BV86tNGhItOPjWNLnQhaQYhb9HzpkhxleaiIL_64BYkl_K13ekpeOfUuLDdkpLw44tEeLrtjxfpaXqGsUNg3Ghv4NyO8nMXNsTHNuGHkY3U3OjeMwvOUuBkb3Y_rbjLFOliJZIW74ox6lXYBoGvQ9IYZgpej_vqpWxAVSc6J_Ti0Z_IdJdaRAOvx_Z41vpdsImr6kaHHZtneOv5lVn5LCA3D5zuJEVdwnox1y-FCIhYWfQkqPbV8K3KzrUWoxOGW8Qc1DY7j9tafqj72YtWWUDh_zPmrgP8tuBqX5OeNTweZysHTvXWtEjT2UczQfz6U53HQ3gW8FmSLD26tugD9tSKN7SUq75jE_hQdOVnrZSsQs_2kHc--rowIbH89l5m9klw/file\n",
            "Reusing existing connection to uc102872133273fb4998f1a927bd.dl.dropboxusercontent.com:443.\n",
            "HTTP request sent, awaiting response... 200 OK\n",
            "Length: 159559507 (152M) [application/octet-stream]\n",
            "Saving to: ‘truncated_deepsea_dataset2.h5’\n",
            "\n",
            "truncated_deepsea_d 100%[===================>] 152.17M  13.8MB/s    in 12s     \n",
            "\n",
            "2021-09-12 01:56:15 (13.0 MB/s) - ‘truncated_deepsea_dataset2.h5’ saved [159559507/159559507]\n",
            "\n"
          ]
        }
      ]
    },
    {
      "cell_type": "code",
      "metadata": {
        "id": "RTgqSO5Hf3EB"
      },
      "source": [
        "import os, h5py\n",
        "import numpy as np\n",
        "import matplotlib.pyplot as plt\n",
        "%matplotlib inline\n",
        "from tensorflow import keras\n",
        "import model_zoo\n",
        "import tfomics\n",
        "import tensorflow as tf"
      ],
      "execution_count": null,
      "outputs": []
    },
    {
      "cell_type": "code",
      "metadata": {
        "id": "9dAjz1TkgQas",
        "colab": {
          "base_uri": "https://localhost:8080/"
        },
        "outputId": "95238ad5-c092-44c1-8adc-5afeed537a25"
      },
      "source": [
        "filepath = 'truncated_deepsea_dataset.h5'\n",
        "dataset = h5py.File(filepath, 'r')\n",
        "\n",
        "with h5py.File(filepath, 'r') as dataset:\n",
        "    x_train = np.array(dataset['X_train']).astype(np.float32)\n",
        "    y_train = np.array(dataset['Y_train']).astype(np.float32)\n",
        "    x_valid = np.array(dataset['X_valid']).astype(np.float32)\n",
        "    y_valid = np.array(dataset['Y_valid']).astype(np.int32)\n",
        "    x_test = np.array(dataset['X_test']).astype(np.float32)\n",
        "    y_test = np.array(dataset['Y_test']).astype(np.int32)\n",
        "\n",
        "x_train = np.squeeze(x_train).transpose([0,2,1])\n",
        "x_valid = np.squeeze(x_valid).transpose([0,2,1])\n",
        "x_test = np.squeeze(x_test).transpose([0,2,1])\n",
        "\n",
        "N, L, A = x_train.shape\n",
        "num_labels = y_valid.shape[1]\n",
        "print(x_train.shape)"
      ],
      "execution_count": null,
      "outputs": [
        {
          "output_type": "stream",
          "name": "stdout",
          "text": [
            "(228048, 1000, 4)\n"
          ]
        }
      ]
    },
    {
      "cell_type": "code",
      "metadata": {
        "id": "FdT12ZHKg9ok"
      },
      "source": [
        ""
      ],
      "execution_count": null,
      "outputs": []
    },
    {
      "cell_type": "code",
      "metadata": {
        "id": "8NLbnfKng9rU"
      },
      "source": [
        ""
      ],
      "execution_count": null,
      "outputs": []
    },
    {
      "cell_type": "code",
      "metadata": {
        "id": "1MRiHtH2g9uD"
      },
      "source": [
        ""
      ],
      "execution_count": null,
      "outputs": []
    }
  ]
}